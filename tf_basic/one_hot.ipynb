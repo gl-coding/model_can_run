{
 "cells": [
  {
   "cell_type": "code",
   "execution_count": 62,
   "metadata": {},
   "outputs": [
    {
     "name": "stdout",
     "output_type": "stream",
     "text": [
      "[[1. 0. 0. 0. 0. 0. 0. 0. 0. 0.]\n",
      " [0. 0. 0. 0. 0. 0. 0. 0. 0. 0.]\n",
      " [0. 1. 0. 0. 0. 0. 0. 0. 0. 0.]\n",
      " [0. 0. 1. 0. 0. 0. 0. 0. 0. 0.]\n",
      " [0. 0. 0. 1. 0. 0. 0. 0. 0. 0.]\n",
      " [0. 0. 0. 0. 1. 0. 0. 0. 0. 0.]\n",
      " [1. 0. 0. 0. 0. 0. 0. 0. 0. 0.]]\n"
     ]
    }
   ],
   "source": [
    "#只适用于值为整数的类别型变量，实际输出如下：\n",
    "\n",
    "import tensorflow as tf\n",
    "sess=tf.Session()\n",
    "\n",
    "#特征数据\n",
    "#features = {'birthplace': [[1],[1],[3],[4]]}\n",
    "features = {'birthplace': [-2, -1, 1, 2, 3, 4, 100]}\n",
    "\n",
    "#特征列\n",
    "birthplace = tf.feature_column.categorical_column_with_identity(\"birthplace\", num_buckets=10, default_value=0)\n",
    "birthplace = tf.feature_column.indicator_column(birthplace)\n",
    "#组合特征列\n",
    "columns = [\n",
    "    birthplace\n",
    "]\n",
    "\n",
    "#输入层（数据，特征列）\n",
    "inputs = tf.feature_column.input_layer(features, columns)\n",
    "\n",
    "#初始化并运行\n",
    "init = tf.global_variables_initializer()\n",
    "sess.run(tf.tables_initializer())\n",
    "sess.run(init)\n",
    "v=sess.run(inputs)\n",
    "print(v)\n",
    "#输出为birthplace的one-hot结果，num_buckets用于确定每一个one-hot向量的最大特征类别数"
   ]
  },
  {
   "cell_type": "code",
   "execution_count": 7,
   "metadata": {},
   "outputs": [
    {
     "name": "stdout",
     "output_type": "stream",
     "text": [
      "[[1. 0.]\n",
      " [1. 0.]\n",
      " [0. 1.]\n",
      " [0. 1.]]\n"
     ]
    }
   ],
   "source": [
    "#主要用于处理非整数型的类别特征，两个函数的区别在于处理变量类别的多少，\n",
    "#数量前者对应类别少的情况，所有可能的类别可以直接输入，后者对应类别多的情况，所有可能的类别可以存在一个文件中输入\n",
    "import tensorflow as tf\n",
    "sess=tf.Session()\n",
    "\n",
    "#特征数据\n",
    "features = {\n",
    "    'sex': ['male', 'male', 'female', 'female'],\n",
    "}\n",
    "\n",
    "#特征列\n",
    "sex_column = tf.feature_column.categorical_column_with_vocabulary_list('sex', ['male', 'female'])\n",
    "sex_column = tf.feature_column.indicator_column(sex_column)\n",
    "#组合特征列\n",
    "columns = [\n",
    "    sex_column\n",
    "]\n",
    "\n",
    "#输入层（数据，特征列）\n",
    "inputs = tf.feature_column.input_layer(features, columns)\n",
    "\n",
    "#初始化并运行\n",
    "init = tf.global_variables_initializer()\n",
    "sess.run(tf.tables_initializer())\n",
    "sess.run(init)\n",
    "\n",
    "v=sess.run(inputs)\n",
    "print(v)"
   ]
  },
  {
   "cell_type": "code",
   "execution_count": 49,
   "metadata": {},
   "outputs": [
    {
     "name": "stdout",
     "output_type": "stream",
     "text": [
      "[[0. 0. 0. 0. 0. 1. 0. 0. 0. 0.]\n",
      " [0. 0. 0. 0. 0. 1. 0. 0. 0. 0.]\n",
      " [0. 0. 0. 0. 1. 0. 0. 0. 0. 0.]\n",
      " [0. 0. 0. 0. 0. 0. 0. 1. 0. 0.]\n",
      " [0. 0. 0. 0. 0. 0. 0. 1. 0. 0.]]\n"
     ]
    }
   ],
   "source": [
    "#对于处理包含大量文字或数字类别的特征时可使用hash的方式，这能快速地建立对应的对照表，缺点则是会有哈希冲突的问题。\n",
    "#hash_bucket_size的大小一般设置为总类别数的2-5倍，该函数适用于不能确定所有类别样式的类别变量\n",
    "\n",
    "import tensorflow as tf\n",
    "sess=tf.Session()\n",
    "\n",
    "#特征数据\n",
    "features = {\n",
    "    'department': ['sport', 'sport', 'gardening', 'drawing', 'travelling'],\n",
    "}\n",
    "\n",
    "#特征列\n",
    "department = tf.feature_column.categorical_column_with_hash_bucket('department', 10, dtype=tf.string)\n",
    "department = tf.feature_column.indicator_column(department)\n",
    "#组合特征列\n",
    "columns = [\n",
    "    department\n",
    "]\n",
    "\n",
    "#输入层（数据，特征列）\n",
    "inputs = tf.feature_column.input_layer(features, columns)\n",
    "\n",
    "#初始化并运行\n",
    "init = tf.global_variables_initializer()\n",
    "sess.run(tf.tables_initializer())\n",
    "sess.run(init)\n",
    "\n",
    "v=sess.run(inputs)\n",
    "print(v)"
   ]
  },
  {
   "cell_type": "code",
   "execution_count": 58,
   "metadata": {},
   "outputs": [
    {
     "name": "stdout",
     "output_type": "stream",
     "text": [
      "[[0. 0. 0. 0. 1. 0. 0. 0. 0. 0. 0. 0. 0. 0. 0. 1. 0. 0. 0. 0.]\n",
      " [0. 0. 0. 0. 0. 0. 0. 0. 1. 0. 0. 0. 0. 0. 0. 1. 0. 0. 0. 0.]\n",
      " [0. 0. 0. 0. 1. 0. 0. 0. 0. 0. 0. 0. 0. 0. 1. 0. 0. 0. 0. 0.]\n",
      " [0. 0. 0. 0. 0. 0. 1. 0. 0. 0. 0. 0. 0. 0. 0. 0. 0. 1. 0. 0.]\n",
      " [0. 0. 0. 0. 1. 0. 0. 0. 0. 0. 0. 0. 0. 0. 0. 0. 0. 1. 0. 0.]]\n"
     ]
    }
   ],
   "source": [
    "#对于处理包含大量文字或数字类别的特征时可使用hash的方式，这能快速地建立对应的对照表，缺点则是会有哈希冲突的问题。\n",
    "#hash_bucket_size的大小一般设置为总类别数的2-5倍，该函数适用于不能确定所有类别样式的类别变量\n",
    "\n",
    "import tensorflow as tf\n",
    "sess=tf.Session()\n",
    "\n",
    "#特征数据\n",
    "features = {\n",
    "    '9': ['sport', 'sport', 'gardening', 'drawing', 'travelling'],\n",
    "    '10': ['gg', 'ss', 'gg', 'dd', 'tt'],\n",
    "}\n",
    "\n",
    "features1 = {\n",
    "    '0': ['sport', 'sport', 'gardening', 'drawing', 'travelling'],\n",
    "    '1': ['gg', 'ss', 'gg', 'dd', 'tt'],\n",
    "}\n",
    "\n",
    "\n",
    "#特征列\n",
    "department = tf.feature_column.categorical_column_with_hash_bucket('9', 10, dtype=tf.string)\n",
    "department = tf.feature_column.indicator_column(department)\n",
    "\n",
    "#特征列\n",
    "dd = tf.feature_column.categorical_column_with_hash_bucket('10', 10, dtype=tf.string)\n",
    "dd = tf.feature_column.indicator_column(dd)\n",
    "\n",
    "#组合特征列\n",
    "columns = [\n",
    "    dd,\n",
    "    department\n",
    "]\n",
    "\n",
    "#输入层（数据，特征列）\n",
    "inputs = tf.feature_column.input_layer(features, columns)\n",
    "#inputs = tf.feature_column.input_layer(features1, columns)\n",
    "#features 和features1的查询结果不一样，是根据featrure的key按照字母序排序后查询结果的，跟组合特征列columns的顺序没有关系\n",
    "\n",
    "#初始化并运行\n",
    "init = tf.global_variables_initializer()\n",
    "sess.run(tf.tables_initializer())\n",
    "sess.run(init)\n",
    "\n",
    "v=sess.run(inputs)\n",
    "print(v)"
   ]
  },
  {
   "cell_type": "code",
   "execution_count": 60,
   "metadata": {},
   "outputs": [
    {
     "name": "stdout",
     "output_type": "stream",
     "text": [
      "[[1.2]\n",
      " [2.3]\n",
      " [1.2]\n",
      " [1.5]\n",
      " [2.2]]\n"
     ]
    }
   ],
   "source": [
    "#numeric_column：该函数主要用于处理连续型变量，\n",
    "#即可以是float类型也可以是int类似，从table中读取对应的(key)column，并把它转成dtype的格式\n",
    "\n",
    "import tensorflow as tf\n",
    "sess=tf.Session()\n",
    "\n",
    "#特征数据\n",
    "features = {\n",
    "    'sale': [1.2, 2.3, 1.2, 1.5, 2.2]\n",
    "}\n",
    "\n",
    "#特征列\n",
    "sale = tf.feature_column.numeric_column(\"sale\", default_value=0.0)\n",
    "#组合特征列\n",
    "columns = [\n",
    "    sale\n",
    "]\n",
    "\n",
    "#输入层（数据，特征列）\n",
    "inputs = tf.feature_column.input_layer(features, columns)\n",
    "\n",
    "#初始化并运行\n",
    "init = tf.global_variables_initializer()\n",
    "sess.run(tf.tables_initializer())\n",
    "sess.run(init)\n",
    "\n",
    "v=sess.run(inputs)\n",
    "print(v)"
   ]
  },
  {
   "cell_type": "code",
   "execution_count": 61,
   "metadata": {},
   "outputs": [
    {
     "name": "stdout",
     "output_type": "stream",
     "text": [
      "[0.0, 0.5]\n",
      "+++++++++++++++++++\n",
      "[[1. 0. 0.]\n",
      " [0. 1. 0.]\n",
      " [0. 1. 0.]\n",
      " [0. 0. 1.]\n",
      " [0. 0. 1.]\n",
      " [0. 1. 0.]]\n"
     ]
    }
   ],
   "source": [
    "#bucketized_column: 该函数将连续变量进行分桶离散化，输出one-hot的结果，方便连续值指标与分类变量进行交叉特征构建\n",
    "\n",
    "import numpy as np\n",
    "import tensorflow as tf\n",
    "sess=tf.Session()\n",
    "\n",
    "#特征数据\n",
    "features = {\n",
    "    'sale': [-0.1, 0.1, 0.2, 0.5, 1.0, 0.2]\n",
    "}\n",
    "\n",
    "#特征列\n",
    "step_val = 1.0 / 2\n",
    "boundaries = list(np.arange(0, 1, step_val))\n",
    "print(boundaries)\n",
    "print(\"+++++++++++++++++++\")\n",
    "sale = tf.feature_column.bucketized_column(\n",
    "    tf.feature_column.numeric_column('sale', default_value=0.0), boundaries=boundaries)\n",
    "#组合特征列\n",
    "columns = [\n",
    "    sale\n",
    "]\n",
    "\n",
    "#输入层（数据，特征列）\n",
    "inputs = tf.feature_column.input_layer(features, columns)\n",
    "\n",
    "#初始化并运行\n",
    "init = tf.global_variables_initializer()\n",
    "sess.run(tf.tables_initializer())\n",
    "sess.run(init)\n",
    "\n",
    "v=sess.run(inputs)\n",
    "print(v)"
   ]
  },
  {
   "cell_type": "code",
   "execution_count": 59,
   "metadata": {},
   "outputs": [
    {
     "name": "stdout",
     "output_type": "stream",
     "text": [
      "[[0. 0. 0. 1. 0. 0. 0. 0. 0. 0. 0. 0. 0. 0. 0. 0.]\n",
      " [0. 0. 0. 0. 0. 0. 0. 0. 1. 0. 0. 0. 0. 0. 0. 0.]\n",
      " [0. 0. 0. 0. 0. 0. 0. 0. 0. 1. 0. 0. 0. 0. 0. 0.]\n",
      " [0. 0. 0. 0. 1. 0. 0. 0. 0. 0. 0. 0. 0. 0. 0. 0.]\n",
      " [0. 0. 0. 0. 0. 0. 0. 0. 1. 0. 0. 0. 0. 0. 0. 0.]]\n"
     ]
    }
   ],
   "source": [
    "#crossed_column：特征交叉，在有些情况下，特征独自编码与多维特征交叉后的特征特性会有不一样的结果。\n",
    "#该函数不能对hash映射之后的特征进行交叉\n",
    "import tensorflow as tf\n",
    "sess=tf.Session()\n",
    "\n",
    "#特征数据\n",
    "features = {\n",
    "    'sex': [1, 2, 1, 1, 2],\n",
    "    'department': ['sport', 'sport', 'drawing', 'gardening', 'travelling'],\n",
    "}\n",
    "\n",
    "#特征列\n",
    "department = tf.feature_column.categorical_column_with_vocabulary_list('department', ['sport','drawing','gardening','travelling'], dtype=tf.string)\n",
    "sex = tf.feature_column.categorical_column_with_identity('sex', num_buckets=2, default_value=0)\n",
    "sex_department = tf.feature_column.crossed_column([department, sex], 16)\n",
    "sex_department = tf.feature_column.indicator_column(sex_department)\n",
    "#组合特征列\n",
    "columns = [\n",
    "    sex_department\n",
    "]\n",
    "\n",
    "#输入层（数据，特征列）\n",
    "inputs = tf.feature_column.input_layer(features, columns)\n",
    "\n",
    "#初始化并运行\n",
    "init = tf.global_variables_initializer()\n",
    "sess.run(tf.tables_initializer())\n",
    "sess.run(init)\n",
    "\n",
    "v=sess.run(inputs)\n",
    "print(v)"
   ]
  },
  {
   "cell_type": "code",
   "execution_count": 36,
   "metadata": {},
   "outputs": [
    {
     "name": "stdout",
     "output_type": "stream",
     "text": [
      "[[ 0.6841228  -0.6059169   0.0112622  -0.05250439  0.79430753]\n",
      " [-0.10248739 -0.00268992 -0.81676567 -0.40964803 -0.24823937]\n",
      " [-0.16232549 -0.26419324 -0.22975169 -0.8299208  -0.26175195]\n",
      " [-0.4624797  -0.06243371  0.12362447  0.6441867  -0.13424385]\n",
      " [-0.09251136 -0.29220805  0.70454067 -0.14150065 -0.06217364]]\n"
     ]
    }
   ],
   "source": [
    "#embedding_column：把categorical的data，借由lookup table的方式找寻对应的feature vector来表示。\n",
    "#假设有81个单词，若使用categorical_column_vocbulary_list，然后转成numerical的indicator_column，\n",
    "#则需要81维度来描述此些单词，这样极易造成数据的稀疏化，对于推荐系统而言，大维度的稀疏数据对于结果的影响较大，\n",
    "#因此我们考虑使用embedding_column，来对数据进行压缩\n",
    "\n",
    "import tensorflow as tf\n",
    "sess=tf.Session()\n",
    "\n",
    "#特征数据\n",
    "features = {\n",
    "    'sex': [0, 1, 0, 0, 1],\n",
    "    'department': ['sport', 'sport', 'drawing', 'gardening', 'travelling'],\n",
    "}\n",
    "\n",
    "#特征列\n",
    "department = tf.feature_column.categorical_column_with_vocabulary_list('department', ['sport','drawing','gardening','travelling'], dtype=tf.string)\n",
    "sex = tf.feature_column.categorical_column_with_identity('sex', num_buckets=2, default_value=0)\n",
    "\n",
    "sex_department = tf.feature_column.crossed_column([department, sex], 16)\n",
    "sex_department_emb = tf.feature_column.embedding_column(sex_department, 5, combiner='sqrtn')\n",
    "\n",
    "#组合特征列\n",
    "columns = [\n",
    "    sex_department_emb\n",
    "]\n",
    "\n",
    "#输入层（数据，特征列）\n",
    "inputs = tf.feature_column.input_layer(features, columns)\n",
    "\n",
    "#初始化并运行\n",
    "init = tf.global_variables_initializer()\n",
    "sess.run(tf.tables_initializer())\n",
    "sess.run(init)\n",
    "\n",
    "v=sess.run(inputs)\n",
    "#输出为交叉特征的embading向量，embedding_column的输入为处理之后的特征变量，可以是categorical也可以是dense的\n",
    "print(v)"
   ]
  },
  {
   "cell_type": "code",
   "execution_count": null,
   "metadata": {},
   "outputs": [],
   "source": []
  }
 ],
 "metadata": {
  "kernelspec": {
   "display_name": "Python 2",
   "language": "python",
   "name": "python2"
  },
  "language_info": {
   "codemirror_mode": {
    "name": "ipython",
    "version": 2
   },
   "file_extension": ".py",
   "mimetype": "text/x-python",
   "name": "python",
   "nbconvert_exporter": "python",
   "pygments_lexer": "ipython2",
   "version": "2.7.16"
  }
 },
 "nbformat": 4,
 "nbformat_minor": 4
}
