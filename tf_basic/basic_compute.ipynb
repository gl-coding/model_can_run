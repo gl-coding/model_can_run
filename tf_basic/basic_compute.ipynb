{
 "cells": [
  {
   "cell_type": "code",
   "execution_count": 1,
   "metadata": {},
   "outputs": [
    {
     "name": "stdout",
     "output_type": "stream",
     "text": [
      "[[0. 0. 3.]\n",
      " [0. 0. 3.]\n",
      " [0. 0. 3.]]\n",
      "2\n",
      "[2 4 6]\n",
      "[[2. 4. 6.]\n",
      " [2. 4. 6.]\n",
      " [2. 4. 6.]]\n",
      "[[0. 0. 6.]\n",
      " [0. 0. 6.]\n",
      " [0. 0. 6.]]\n"
     ]
    }
   ],
   "source": [
    "import tensorflow as tf  \n",
    "\n",
    "#两个矩阵的对应元素各自相乘！！\n",
    "x=tf.constant([[1.0,2.0,3.0],[1.0,2.0,3.0],[1.0,2.0,3.0]])  \n",
    "y=tf.constant([[0,0,1.0],[0,0,1.0],[0,0,1.0]])\n",
    "#注意这里这里x,y要有相同的数据类型，不然就会因为数据类型不匹配而出错\n",
    "z=tf.multiply(x,y)\n",
    "\n",
    "#两个数相乘\n",
    "x1=tf.constant(1)\n",
    "y1=tf.constant(2)\n",
    "#注意这里这里x1,y1要有相同的数据类型，不然就会因为数据类型不匹配而出错\n",
    "z1=tf.multiply(x1,y1)\n",
    "\n",
    "#两个数相乘\n",
    "x1=tf.constant([1,2,3])\n",
    "y1=tf.constant([2,2,2])\n",
    "#注意这里这里x1,y1要有相同的数据类型，不然就会因为数据类型不匹配而出错\n",
    "z0=tf.multiply(x1,y1)\n",
    "\n",
    "#数和矩阵相乘\n",
    "x2=tf.constant([[1.0,2.0,3.0],[1.0,2.0,3.0],[1.0,2.0,3.0]])\n",
    "y2=tf.constant(2.0)\n",
    "#注意这里这里x1,y1要有相同的数据类型，不然就会因为数据类型不匹配而出错\n",
    "z2=tf.multiply(x2,y2)\n",
    "\n",
    "#两个矩阵相乘\n",
    "x3=tf.constant([[1.0,2.0,3.0],[1.0,2.0,3.0],[1.0,2.0,3.0]])  \n",
    "y3=tf.constant([[0,0,1.0],[0,0,1.0],[0,0,1.0]])\n",
    "#注意这里这里x,y要满足矩阵相乘的格式要求。\n",
    "z3=tf.matmul(x,y)\n",
    "\n",
    "with tf.Session() as sess:  \n",
    "    print(sess.run(z))\n",
    "    print(sess.run(z1))\n",
    "    print(sess.run(z0))\n",
    "    print(sess.run(z2))\n",
    "    print(sess.run(z3))"
   ]
  },
  {
   "cell_type": "code",
   "execution_count": 9,
   "metadata": {},
   "outputs": [
    {
     "name": "stdout",
     "output_type": "stream",
     "text": [
      "[[1. 2. 3.]\n",
      " [1. 2. 3.]]\n",
      "+++++++++++++++++++\n",
      "[[0.7310586  0.880797   0.95257413]\n",
      " [0.7310586  0.880797   0.95257413]]\n",
      "+++++++++++++++++++\n",
      "[6. 6.]\n",
      "12.0\n",
      "[2. 4. 6.]\n",
      "[6. 6.]\n",
      "[[6.]\n",
      " [6.]]\n"
     ]
    }
   ],
   "source": [
    "import tensorflow as tf\n",
    " \n",
    "x = [[1,2,3],\n",
    "     [1,2,3]]\n",
    " \n",
    "xx = tf.cast(x, tf.float32)\n",
    "\n",
    "sig = tf.sigmoid(xx)\n",
    "\n",
    "xxs = tf.reduce_sum(xx, axis=1)\n",
    " \n",
    "sum_all = tf.reduce_sum(xx, keepdims=False)\n",
    "sum_0 = tf.reduce_sum(xx, axis=0, keepdims=False)\n",
    "sum_1 = tf.reduce_sum(xx, axis=1, keepdims=False)\n",
    "sum_2 = tf.reduce_sum(xx, axis=1, keepdims=True)\n",
    " \n",
    "#如果axis为None，input_tensor的维度降为1\n",
    "#如果axis为0，矩阵按行计算，维度降低一个维度\n",
    "#如果axis为1，矩阵按列计算，维度降低一个维度\n",
    "#如果keep_dims==true，保持维度不变，矩阵按行或者按列计算\n",
    "\n",
    "with tf.Session() as sess:\n",
    "    xxp, sigp, s_a,s_0,s_1,s_2, xxx = sess.run([xx, sig, xxs, sum_all, sum_0, sum_1, sum_2])\n",
    " \n",
    "print(xxp)\n",
    "print(\"+++++++++++++++++++\")\n",
    "print(sigp)\n",
    "print(\"+++++++++++++++++++\")\n",
    "print(s_a)\n",
    "print(s_0)\n",
    "print(s_1)\n",
    "print(s_2)\n",
    "print(xxx)\n"
   ]
  },
  {
   "cell_type": "code",
   "execution_count": 1,
   "metadata": {},
   "outputs": [
    {
     "ename": "IOError",
     "evalue": "[Errno 2] No such file or directory: '/data0/guolei7/data/data_train.txt'",
     "output_type": "error",
     "traceback": [
      "\u001b[0;31m---------------------------------------------------------------------------\u001b[0m",
      "\u001b[0;31mIOError\u001b[0m                                   Traceback (most recent call last)",
      "\u001b[0;32m<ipython-input-1-fe7029a56e55>\u001b[0m in \u001b[0;36m<module>\u001b[0;34m()\u001b[0m\n\u001b[1;32m      2\u001b[0m \u001b[0mcount\u001b[0m \u001b[0;34m=\u001b[0m \u001b[0;36m0\u001b[0m\u001b[0;34m\u001b[0m\u001b[0m\n\u001b[1;32m      3\u001b[0m \u001b[0mglobal_val\u001b[0m \u001b[0;34m=\u001b[0m \u001b[0;34m\"\"\u001b[0m\u001b[0;34m\u001b[0m\u001b[0m\n\u001b[0;32m----> 4\u001b[0;31m \u001b[0;32mwith\u001b[0m \u001b[0mopen\u001b[0m\u001b[0;34m(\u001b[0m\u001b[0;34m\"/data0/guolei7/data/data_train.txt\"\u001b[0m\u001b[0;34m)\u001b[0m \u001b[0;32mas\u001b[0m \u001b[0mf\u001b[0m\u001b[0;34m:\u001b[0m\u001b[0;34m\u001b[0m\u001b[0m\n\u001b[0m\u001b[1;32m      5\u001b[0m     \u001b[0;32mfor\u001b[0m \u001b[0mline\u001b[0m \u001b[0;32min\u001b[0m \u001b[0mf\u001b[0m\u001b[0;34m:\u001b[0m\u001b[0;34m\u001b[0m\u001b[0m\n\u001b[1;32m      6\u001b[0m         \u001b[0mcount\u001b[0m \u001b[0;34m+=\u001b[0m \u001b[0;36m1\u001b[0m\u001b[0;34m\u001b[0m\u001b[0m\n",
      "\u001b[0;31mIOError\u001b[0m: [Errno 2] No such file or directory: '/data0/guolei7/data/data_train.txt'"
     ]
    }
   ],
   "source": [
    "import tensorflow as tf\n",
    "count = 0\n",
    "global_val = \"\"\n",
    "with open(\"/data0/guolei7/data/data_train.txt\") as f:\n",
    "    for line in f:\n",
    "        count += 1\n",
    "        if count == 5:\n",
    "            break\n",
    "        cols = tf.decode_csv(line, ['', '', '0', '', '0', '0', '200', '',''], field_delim='\\t')\n",
    "        global_val = cols[5]\n",
    "        print(cols[5])\n",
    "    print(\"ok\")\n",
    "        \n",
    "with tf.Session() as sess:\n",
    "    print(sess.run(global_val))"
   ]
  },
  {
   "cell_type": "code",
   "execution_count": null,
   "metadata": {},
   "outputs": [],
   "source": []
  }
 ],
 "metadata": {
  "kernelspec": {
   "display_name": "Python 2",
   "language": "python",
   "name": "python2"
  },
  "language_info": {
   "codemirror_mode": {
    "name": "ipython",
    "version": 2
   },
   "file_extension": ".py",
   "mimetype": "text/x-python",
   "name": "python",
   "nbconvert_exporter": "python",
   "pygments_lexer": "ipython2",
   "version": "2.7.16"
  }
 },
 "nbformat": 4,
 "nbformat_minor": 2
}
