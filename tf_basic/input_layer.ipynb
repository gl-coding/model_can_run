{
 "cells": [
  {
   "cell_type": "code",
   "execution_count": 27,
   "metadata": {},
   "outputs": [
    {
     "name": "stdout",
     "output_type": "stream",
     "text": [
      "[[ 0.24380149 -0.442387   -0.05539003  0.22363782  0.114212   -0.14947315\n",
      "  -0.19987983  0.48533747  0.01527676 -0.19872302  0.04860828 -0.15556324\n",
      "  -0.3274075  -0.31647658  0.34785235  0.23371974  0.16733243 -0.14129286\n",
      "  -0.11411606  0.0386888  -0.00969309 -0.3006568   0.07612173 -0.13436073\n",
      "   0.09223875 -0.3437157  -0.19028251 -0.05497427 -0.04215363  0.23737194]\n",
      " [ 0.24380149 -0.442387   -0.05539003  0.22363782  0.114212   -0.14947315\n",
      "  -0.19987983  0.48533747  0.01527676 -0.19872302 -0.10570765 -0.00607751\n",
      "   0.00484003 -0.17709921 -0.2885635  -0.01687451 -0.06236753 -0.12560114\n",
      "  -0.21523815  0.36413562 -0.01598515 -0.43060616 -0.04272617 -0.06161618\n",
      "  -0.30686957 -0.05823983 -0.29061753 -0.01640164  0.0819311  -0.12131221]\n",
      " [-0.283806   -0.06814569  0.58820665  0.3269811   0.4756721  -0.23121719\n",
      "   0.02431968  0.62990695 -0.3593512  -0.4054085   0.06258544 -0.25934735\n",
      "  -0.07869236 -0.12025998 -0.25923958  0.01437713 -0.22116314 -0.06032118\n",
      "  -0.4420142  -0.01061951 -0.3074749  -0.43873286 -0.31257752 -0.12349211\n",
      "   0.10229361  0.11855027  0.05992898  0.04696037 -0.09216574 -0.07640265]]\n",
      "(3, 30)\n"
     ]
    }
   ],
   "source": [
    "#常规embedding\n",
    "import tensorflow as tf\n",
    "sess=tf.Session()\n",
    "#特征数据\n",
    "features = {\n",
    "    '0': ['sport', 'sport', 'drawing'],\n",
    "    '1': [[\"bb\", 'aa'], ['cc', 'ee'], [\"dd\", 'ff']]\n",
    "}\n",
    "\n",
    "features1 = {\n",
    "    '0': ['sport', 'sport', 'drawing'],\n",
    "    '1': [['aa'], ['ee'], ['ff']]\n",
    "}\n",
    "\n",
    "#特征列\n",
    "\n",
    "c0 = tf.feature_column.embedding_column(\n",
    "    tf.feature_column.categorical_column_with_hash_bucket('0', 10),\n",
    "    dimension=10, combiner='mean')\n",
    "\n",
    "c1 = tf.feature_column.embedding_column(\n",
    "    tf.feature_column.categorical_column_with_hash_bucket('1', 10),\n",
    "    dimension=20, combiner='mean')\n",
    "\n",
    "res  = [c0, c1] #c0、c1无关顺序，计算结果的纬度是将c0、c1的纬度加起来\n",
    "\n",
    "#输入层（数据，特征列）\n",
    "#inputs  = tf.feature_column.input_layer(features, res)\n",
    "inputs  = tf.feature_column.input_layer(features1, res)\n",
    "\n",
    "#初始化并运行\n",
    "init = tf.global_variables_initializer()\n",
    "sess.run(tf.tables_initializer())\n",
    "sess.run(init)\n",
    " \n",
    "v=sess.run(inputs)\n",
    "print(v)\n",
    "print(v.shape)\n",
    "\n"
   ]
  },
  {
   "cell_type": "code",
   "execution_count": 28,
   "metadata": {},
   "outputs": [
    {
     "name": "stdout",
     "output_type": "stream",
     "text": [
      "—————1—————\n",
      "HashedCategoricalColumn(key='department', hash_bucket_size=10, dtype=tf.string)\n",
      "——————2————\n",
      "[HashedCategoricalColumn(key='department', hash_bucket_size=10, dtype=tf.string)]\n",
      "[[-0.00423397 -0.1551416  -0.04891894  0.36440617 -0.23689702  0.37729892\n",
      "   0.3697457  -0.16483529 -0.47495982 -0.03720674]\n",
      " [-0.00423397 -0.1551416  -0.04891894  0.36440617 -0.23689702  0.37729892\n",
      "   0.3697457  -0.16483529 -0.47495982 -0.03720674]\n",
      " [-0.04337242 -0.08092059  0.4135134   0.09887627  0.12868242  0.42619407\n",
      "  -0.24340944 -0.41106144 -0.07957598 -0.2711922 ]\n",
      " [-0.00423397 -0.1551416  -0.04891894  0.36440617 -0.23689702  0.37729892\n",
      "   0.3697457  -0.16483529 -0.47495982 -0.03720674]\n",
      " [ 0.06254084 -0.07045165  0.06235351 -0.49164712 -0.18570471 -0.44672585\n",
      "   0.04271108 -0.01801312  0.40150085  0.13313982]]\n"
     ]
    }
   ],
   "source": [
    "# -*- coding: utf-8 -*-\n",
    "#共享权重\n",
    "import tensorflow as tf\n",
    "sess=tf.Session()\n",
    "#特征数据\n",
    "features = {\n",
    "    'department': ['sport', 'sport', 'draw', 'gard', 'trav'],\n",
    "}\n",
    "#特征列\n",
    "department = tf.feature_column.categorical_column_with_hash_bucket('department', 10, dtype=tf.string)\n",
    "print \"—————1—————\"\n",
    "print department\n",
    "print \"——————2————\"\n",
    "#组合特征列\n",
    "columns = [department]\n",
    "print columns\n",
    "columns = tf.feature_column.shared_embedding_columns(columns, dimension=10)\n",
    "#输入层（数据，特征列）\n",
    "inputs = tf.feature_column.input_layer(features, columns)\n",
    "#初始化并运行\n",
    "init = tf.global_variables_initializer()\n",
    "sess.run(tf.tables_initializer())\n",
    "sess.run(init)\n",
    " \n",
    "v=sess.run(inputs)\n",
    "print(v)"
   ]
  },
  {
   "cell_type": "code",
   "execution_count": null,
   "metadata": {},
   "outputs": [],
   "source": []
  }
 ],
 "metadata": {
  "kernelspec": {
   "display_name": "Python 2",
   "language": "python",
   "name": "python2"
  },
  "language_info": {
   "codemirror_mode": {
    "name": "ipython",
    "version": 2
   },
   "file_extension": ".py",
   "mimetype": "text/x-python",
   "name": "python",
   "nbconvert_exporter": "python",
   "pygments_lexer": "ipython2",
   "version": "2.7.16"
  }
 },
 "nbformat": 4,
 "nbformat_minor": 4
}
