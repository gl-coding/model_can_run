{
 "cells": [
  {
   "cell_type": "code",
   "execution_count": 12,
   "metadata": {},
   "outputs": [
    {
     "name": "stdout",
     "output_type": "stream",
     "text": [
      "value: 21\n",
      "\n",
      "value: \"This is a test data file. We will convert this text file to bin file. 1 2 3\"\n",
      "\n",
      "b'\\nk\\n\\x10\\n\\x07data_id\\x12\\x05\\x1a\\x03\\n\\x01\\x15\\nW\\n\\x04data\\x12O\\nM\\nKThis is a test data file. We will convert this text file to bin file. 1 2 3'\n"
     ]
    },
    {
     "ename": "AttributeError",
     "evalue": "module 'tensorflow' has no attribute 'ListDirectory'",
     "output_type": "error",
     "traceback": [
      "\u001b[0;31m---------------------------------------------------------------------------\u001b[0m",
      "\u001b[0;31mAttributeError\u001b[0m                            Traceback (most recent call last)",
      "\u001b[0;32m<ipython-input-12-e697d1aeefa3>\u001b[0m in \u001b[0;36m<module>\u001b[0;34m\u001b[0m\n\u001b[1;32m     73\u001b[0m \u001b[0;32mif\u001b[0m \u001b[0m__name__\u001b[0m \u001b[0;34m==\u001b[0m \u001b[0;34m'__main__'\u001b[0m\u001b[0;34m:\u001b[0m\u001b[0;34m\u001b[0m\u001b[0;34m\u001b[0m\u001b[0m\n\u001b[1;32m     74\u001b[0m     \u001b[0mtext_to_binary\u001b[0m\u001b[0;34m(\u001b[0m\u001b[0;34m'data/train_example.txt'\u001b[0m\u001b[0;34m,\u001b[0m \u001b[0;34m'data/train_example.bin'\u001b[0m\u001b[0;34m)\u001b[0m\u001b[0;34m\u001b[0m\u001b[0;34m\u001b[0m\u001b[0m\n\u001b[0;32m---> 75\u001b[0;31m     \u001b[0mtf\u001b[0m\u001b[0;34m.\u001b[0m\u001b[0mListDirectory\u001b[0m\u001b[0;34m(\u001b[0m\u001b[0;34m\"data\"\u001b[0m\u001b[0;34m)\u001b[0m\u001b[0;34m\u001b[0m\u001b[0;34m\u001b[0m\u001b[0m\n\u001b[0m",
      "\u001b[0;31mAttributeError\u001b[0m: module 'tensorflow' has no attribute 'ListDirectory'"
     ]
    }
   ],
   "source": [
    "\"\"\"\n",
    "#基于python 3.6.5 tensorflow 1.8.0\n",
    "#tf.train.Example主要用在将数据处理成二进制方面，一般是为了提升IO效率和方便管理数据\n",
    "\n",
    "tf.train.BytesList等\n",
    "tf.train.Feature\n",
    "tf.train.Features\n",
    "tf.train.Example\n",
    "\"\"\"\n",
    "\n",
    "import struct\n",
    "import tensorflow as tf\n",
    "\n",
    "def read_text_file(text_file):\n",
    "    \"\"\"\n",
    "    21\n",
    "    This is a test data file.\n",
    "    We will convert this text file to bin file.\n",
    "    1\n",
    "    2\n",
    "    3\n",
    "    \"\"\"\n",
    "    lines = []\n",
    "    with open(text_file, \"r\") as f:\n",
    "        for line in f:\n",
    "            lines.append(line.strip())\n",
    "    return lines\n",
    "\n",
    "def text_to_binary(in_file, out_file):\n",
    "    inputs = read_text_file(in_file)\n",
    "    \"\"\"\n",
    "    #格式化原始数据可以使用tf.train.BytesList tf.train.Int64List tf.train.FloatList三个类。\n",
    "    #这三个类都有实例属性value用于我们将值传进去\n",
    "    #一般tf.train.Int64List tf.train.FloatList对应处理整数和浮点数，tf.train.BytesList用于处理其他类型的数据\n",
    "    \"\"\"\n",
    "    data_id = tf.train.Int64List(value=[int(inputs[0])])\n",
    "    data    = tf.train.BytesList(value=[bytes(' '.join(inputs[1:]), encoding='utf-8')])\n",
    "    print(data_id)\n",
    "    print(data)\n",
    "    \n",
    "    \"\"\"\n",
    "    tf.train.Feature有三个属性为tf.train.bytes_list tf.train.float_list tf.train.int64_list\n",
    "    \"\"\"\n",
    "    tf.train.Feature(int64_list=data_id)\n",
    "    tf.train.Feature(bytes_list=data)\n",
    "\n",
    "    feature_dict = {\n",
    "        \"data_id\": tf.train.Feature(int64_list=data_id),\n",
    "        \"data\": tf.train.Feature(bytes_list=data)\n",
    "    }\n",
    "    \n",
    "    \"\"\"\n",
    "    从名字来看，我们应该能猜出tf.train.Features是tf.train.Feature的复数\n",
    "    事实上tf.train.Features有属性为feature，这个属性的一般设置方法是传入一个字典，字典的key是字符串（feature名）\n",
    "    而值是tf.train.Feature对象\n",
    "    \"\"\"\n",
    "    features = tf.train.Features(feature=feature_dict)\n",
    "    \"\"\"\n",
    "    tf.train.Example还有一个方法SerializeToString()需要说一下，这个方法的作用是把tf.train.Example对象序列化为字符串\n",
    "    因为我们写入文件的时候不能直接处理对象，需要将其转化为字符串才能处理\n",
    "    \"\"\"\n",
    "    example = tf.train.Example(features=features)\n",
    "    example_str = example.SerializeToString()\n",
    "    \n",
    "    str_len = len(example_str)\n",
    "    \n",
    "    print(example_str)\n",
    "\n",
    "    with open(out_file, 'wb') as writer:\n",
    "        writer.write(struct.pack('H', str_len))\n",
    "        writer.write(struct.pack('%ds' % str_len, example_str))\n",
    "\n",
    "if __name__ == '__main__':\n",
    "    text_to_binary('data/train_example.txt', 'data/train_example.bin')\n",
    "    tf.ListDirectory(\"data\")"
   ]
  },
  {
   "cell_type": "code",
   "execution_count": null,
   "metadata": {},
   "outputs": [],
   "source": []
  }
 ],
 "metadata": {
  "kernelspec": {
   "display_name": "Python 3",
   "language": "python",
   "name": "python3"
  },
  "language_info": {
   "codemirror_mode": {
    "name": "ipython",
    "version": 3
   },
   "file_extension": ".py",
   "mimetype": "text/x-python",
   "name": "python",
   "nbconvert_exporter": "python",
   "pygments_lexer": "ipython3",
   "version": "3.8.3"
  }
 },
 "nbformat": 4,
 "nbformat_minor": 4
}
